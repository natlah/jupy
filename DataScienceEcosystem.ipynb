{
 "cells": [
  {
   "cell_type": "markdown",
   "id": "869b521f-1867-4610-ab8f-42b324fe2304",
   "metadata": {},
   "source": [
    "# Data Science Tools and Ecosystem"
   ]
  },
  {
   "cell_type": "markdown",
   "id": "69ee87e1-b956-4086-97fa-af1becc5294c",
   "metadata": {},
   "source": [
    "In this notebook, Data Science Tools and Ecosystem are summarized."
   ]
  },
  {
   "cell_type": "markdown",
   "id": "d63e6e87-890f-4296-8849-922833cabdbd",
   "metadata": {},
   "source": [
    "Some of the popular languages that Data Scientists use are:\n",
    "order list\n",
    "1. c++\n",
    "2. java\n",
    "3. R\n",
    "4. python"
   ]
  },
  {
   "cell_type": "markdown",
   "id": "41ed4b70-c2b4-4bbd-b032-151c465ceaa3",
   "metadata": {},
   "source": [
    "# Objectives:  \n",
    "unordered list\n",
    "List popular languages for Data Science\n",
    "1. c++\n",
    "2. java\n",
    "3. R\n",
    "4. python"
   ]
  },
  {
   "cell_type": "markdown",
   "id": "85912acd-6f7e-4bc8-b722-3ad26a2764f9",
   "metadata": {},
   "source": [
    "Some of the commonly used libraries used by Data Scientists include:\n",
    "ordered list\n",
    "1. ggplot\n",
    "2. stringr\n",
    "3. dblyr\n",
    "4. caret"
   ]
  },
  {
   "cell_type": "markdown",
   "id": "d2b15182-bf48-41ad-a402-d64fc746126b",
   "metadata": {},
   "source": [
    "|Data Science Tools|\n",
    "|------------------|\n",
    "|    RStudio       |\n",
    "|    jupyter       |\n",
    "|IBM watson Studio |\n",
    "|------------------|"
   ]
  },
  {
   "cell_type": "markdown",
   "id": "bbde3384-87f2-4695-86fd-15f6a70631a2",
   "metadata": {},
   "source": [
    "### Below are a few examples of evaluating arithmetic expressions in Python"
   ]
  },
  {
   "cell_type": "code",
   "execution_count": 1,
   "id": "858567d1-4135-448d-a3a9-bfd01e407bc2",
   "metadata": {},
   "outputs": [
    {
     "data": {
      "text/plain": [
       "17"
      ]
     },
     "execution_count": 1,
     "metadata": {},
     "output_type": "execute_result"
    }
   ],
   "source": [
    "(3*4)+5"
   ]
  },
  {
   "cell_type": "code",
   "execution_count": 2,
   "id": "7267d1fd-2300-4b94-9d91-08ad7efec1b2",
   "metadata": {},
   "outputs": [
    {
     "data": {
      "text/plain": [
       "3.3333333333333335"
      ]
     },
     "execution_count": 2,
     "metadata": {},
     "output_type": "execute_result"
    }
   ],
   "source": [
    "#This will convert 200 minutes to hours by diving by 60\n",
    "200/60"
   ]
  },
  {
   "cell_type": "markdown",
   "id": "a917b628-66b9-47a0-872e-10080891f30f",
   "metadata": {},
   "source": [
    "## Author "
   ]
  }
 ],
 "metadata": {
  "kernelspec": {
   "display_name": "Python 3 (ipykernel)",
   "language": "python",
   "name": "python3"
  },
  "language_info": {
   "codemirror_mode": {
    "name": "ipython",
    "version": 3
   },
   "file_extension": ".py",
   "mimetype": "text/x-python",
   "name": "python",
   "nbconvert_exporter": "python",
   "pygments_lexer": "ipython3",
   "version": "3.11.5"
  }
 },
 "nbformat": 4,
 "nbformat_minor": 5
}
